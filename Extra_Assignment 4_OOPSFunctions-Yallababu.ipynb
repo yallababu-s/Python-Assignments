{
 "cells": [
  {
   "cell_type": "code",
   "execution_count": 16,
   "id": "f5a5f759",
   "metadata": {},
   "outputs": [
    {
     "name": "stdout",
     "output_type": "stream",
     "text": [
      "Sub-fields in AI are:\n",
      "Machine Learning\n",
      "Neural Networks\n",
      "Vision\n",
      "Robotics\n",
      "Speech Processing\n",
      "Natural Language Processing\n"
     ]
    }
   ],
   "source": [
    "def Subfields():\n",
    "        subfields = [\"Machine Learning\",\"Neural Networks\",\"Vision\",\"Robotics\",\"Speech Processing\",\"Natural Language Processing\"]\n",
    "        for field in subfields:\n",
    "            print(field)\n",
    "\n",
    "# Calling the function\n",
    "print(\"Sub-fields in AI are:\")\n",
    "Subfields()"
   ]
  },
  {
   "cell_type": "code",
   "execution_count": 55,
   "id": "52b9bd16",
   "metadata": {},
   "outputs": [],
   "source": [
    "# Function to check if a number is Odd or Even\n",
    "def OddEven(number):\n",
    "    if number % 2 == 0:\n",
    "        print(f\"{number} is a Even Number\")\n",
    "        #msg= \"Even Number\"\n",
    "    else:\n",
    "        print(f\"{number} is a Odd Number\")\n",
    "        #msg=\"Odd Number\"\n",
    "       # return msg\n",
    "    "
   ]
  },
  {
   "cell_type": "code",
   "execution_count": 56,
   "id": "f282675f",
   "metadata": {},
   "outputs": [
    {
     "name": "stdout",
     "output_type": "stream",
     "text": [
      "Enter a Number:52452\n",
      "52452 is a Even Number\n"
     ]
    }
   ],
   "source": [
    "number=int(input(\"Enter a Number:\"))\n",
    "OddEven(number)"
   ]
  },
  {
   "cell_type": "code",
   "execution_count": 43,
   "id": "b8966ca0",
   "metadata": {},
   "outputs": [
    {
     "name": "stdout",
     "output_type": "stream",
     "text": [
      "Your Gender (Male/Female): male\n",
      "Your Age: 20\n",
      "NOT ELIGIBLE\n"
     ]
    }
   ],
   "source": [
    "# Function to check marriage eligibility\n",
    "def EligibilityForMarriage(gender, age):\n",
    "    if gender.lower() == 'male' and age >= 21:\n",
    "        return \"Eligible for marriage\"\n",
    "    elif gender.lower() == 'female' and age >= 18:\n",
    "        return \"Eligible for marriage\"\n",
    "    else:\n",
    "        return \"NOT ELIGIBLE\"\n",
    "\n",
    "# Taking user input\n",
    "gender = input(\"Your Gender (Male/Female): \")\n",
    "age = int(input(\"Your Age: \"))\n",
    "\n",
    "# Checking eligibility and printing result\n",
    "result = EligibilityForMarriage(gender, age)\n",
    "print(result)"
   ]
  },
  {
   "cell_type": "code",
   "execution_count": 58,
   "id": "dd05f9e8",
   "metadata": {},
   "outputs": [
    {
     "name": "stdout",
     "output_type": "stream",
     "text": [
      "Enter marks for Subject 1: 98\n",
      "Enter marks for Subject 2: 87\n",
      "Enter marks for Subject 3: 95\n",
      "Enter marks for Subject 4: 95\n",
      "Enter marks for Subject 5: 95\n",
      "\n",
      "Total Marks: 468.0\n",
      "Percentage: 93.6\n"
     ]
    }
   ],
   "source": [
    "# Function to calculate the percentage of marks\n",
    "def FindPercent(subject1, subject2, subject3, subject4, subject5):\n",
    "    total_marks = subject1 + subject2 + subject3 + subject4 + subject5\n",
    "    percentage = (total_marks / 5) \n",
    "    return total_marks, percentage\n",
    "\n",
    "# Taking dynamic user input for the marks of each subject\n",
    "subject1 = float(input(\"Enter marks for Subject 1: \"))\n",
    "subject2 = float(input(\"Enter marks for Subject 2: \"))\n",
    "subject3 = float(input(\"Enter marks for Subject 3: \"))\n",
    "subject4 = float(input(\"Enter marks for Subject 4: \"))\n",
    "subject5 = float(input(\"Enter marks for Subject 5: \"))\n",
    "\n",
    "# Calling the function to calculate total and percentage\n",
    "#total, percentage = FindPercent(subject1, subject2, subject3, subject4, subject5)\n",
    "\n",
    "# Printing the result\n",
    "print(f\"\\nTotal Marks: {total}\")\n",
    "print(f\"Percentage: {percentage}\")\n"
   ]
  },
  {
   "cell_type": "code",
   "execution_count": 61,
   "id": "22d8a886",
   "metadata": {},
   "outputs": [
    {
     "name": "stdout",
     "output_type": "stream",
     "text": [
      "Enter Height of the Triangle: 32\n",
      "Enter Breadth of the Triangle: 34\n",
      "\n",
      "Area formula: (Height * Breadth) / 2\n",
      "Area of Triangle: 544.0\n",
      "\n",
      "Enter Height1 (for Perimeter calculation): 2\n",
      "Enter Height2 (for Perimeter calculation): 4\n",
      "Enter Breadth of the Triangle: 4\n",
      "\n",
      "Perimeter formula: Height1 + Height2 + Breadth\n",
      "Perimeter of Triangle: 10.0\n"
     ]
    }
   ],
   "source": [
    "# Function to calculate the area of a triangle\n",
    "def calculate_area(height, breadth):\n",
    "    return (height * breadth) / 2\n",
    "\n",
    "# Function to calculate the perimeter of a triangle\n",
    "def calculate_perimeter(height1, height2, breadth):\n",
    "    return height1 + height2 + breadth\n",
    "\n",
    "# Function to take dynamic user input and perform the calculations\n",
    "def triangle_calculations():\n",
    "    # Taking dynamic user input for height and breadth of the triangle\n",
    "    height = float(input(\"Enter Height of the Triangle: \"))\n",
    "    breadth = float(input(\"Enter Breadth of the Triangle: \"))\n",
    "\n",
    "    # Calculating and displaying the area\n",
    "    area = calculate_area(height, breadth)\n",
    "    print(f\"\\nArea formula: (Height * Breadth) / 2\")\n",
    "    print(f\"Area of Triangle: {area}\")\n",
    "\n",
    "    # Taking user input for perimeter calculation\n",
    "    height1 = float(input(\"\\nEnter Height1 (for Perimeter calculation): \"))\n",
    "    height2 = float(input(\"Enter Height2 (for Perimeter calculation): \"))\n",
    "    breadth = float(input(\"Enter Breadth of the Triangle: \"))\n",
    "\n",
    "    # Calculating and displaying the perimeter\n",
    "    perimeter = calculate_perimeter(height1, height2, breadth)\n",
    "    print(f\"\\nPerimeter formula: Height1 + Height2 + Breadth\")\n",
    "    print(f\"Perimeter of Triangle: {perimeter}\")\n",
    "\n",
    "# Calling the function to calculate area and perimeter\n",
    "triangle_calculations()"
   ]
  },
  {
   "cell_type": "code",
   "execution_count": null,
   "id": "f554d01c",
   "metadata": {},
   "outputs": [],
   "source": []
  }
 ],
 "metadata": {
  "kernelspec": {
   "display_name": "Python 3 (ipykernel)",
   "language": "python",
   "name": "python3"
  },
  "language_info": {
   "codemirror_mode": {
    "name": "ipython",
    "version": 3
   },
   "file_extension": ".py",
   "mimetype": "text/x-python",
   "name": "python",
   "nbconvert_exporter": "python",
   "pygments_lexer": "ipython3",
   "version": "3.11.4"
  }
 },
 "nbformat": 4,
 "nbformat_minor": 5
}
