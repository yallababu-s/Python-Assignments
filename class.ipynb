{
 "cells": [
  {
   "cell_type": "code",
   "execution_count": 16,
   "id": "f5a5f759",
   "metadata": {},
   "outputs": [
    {
     "name": "stdout",
     "output_type": "stream",
     "text": [
      "Sub-fields in AI are:\n",
      "Machine Learning\n",
      "Neural Networks\n",
      "Vision\n",
      "Robotics\n",
      "Speech Processing\n",
      "Natural Language Processing\n"
     ]
    }
   ],
   "source": [
    "def Subfields():\n",
    "        subfields = [\"Machine Learning\",\"Neural Networks\",\"Vision\",\"Robotics\",\"Speech Processing\",\"Natural Language Processing\"]\n",
    "        for field in subfields:\n",
    "            print(field)\n",
    "\n",
    "# Calling the function\n",
    "print(\"Sub-fields in AI are:\")\n",
    "Subfields()"
   ]
  },
  {
   "cell_type": "code",
   "execution_count": 55,
   "id": "52b9bd16",
   "metadata": {},
   "outputs": [],
   "source": [
    "# Function to check if a number is Odd or Even\n",
    "def OddEven(number):\n",
    "    if number % 2 == 0:\n",
    "        print(f\"{number} is a Even Number\")\n",
    "        #msg= \"Even Number\"\n",
    "    else:\n",
    "        print(f\"{number} is a Odd Number\")\n",
    "        #msg=\"Odd Number\"\n",
    "       # return msg\n",
    "    "
   ]
  },
  {
   "cell_type": "code",
   "execution_count": 56,
   "id": "f282675f",
   "metadata": {},
   "outputs": [
    {
     "name": "stdout",
     "output_type": "stream",
     "text": [
      "Enter a Number:52452\n",
      "52452 is a Even Number\n"
     ]
    }
   ],
   "source": [
    "number=int(input(\"Enter a Number:\"))\n",
    "OddEven(number)"
   ]
  },
  {
   "cell_type": "code",
   "execution_count": 43,
   "id": "b8966ca0",
   "metadata": {},
   "outputs": [
    {
     "name": "stdout",
     "output_type": "stream",
     "text": [
      "Your Gender (Male/Female): male\n",
      "Your Age: 20\n",
      "NOT ELIGIBLE\n"
     ]
    }
   ],
   "source": [
    "# Function to check marriage eligibility\n",
    "def EligibilityForMarriage(gender, age):\n",
    "    if gender.lower() == 'male' and age >= 21:\n",
    "        return \"Eligible for marriage\"\n",
    "    elif gender.lower() == 'female' and age >= 18:\n",
    "        return \"Eligible for marriage\"\n",
    "    else:\n",
    "        return \"NOT ELIGIBLE\"\n",
    "\n",
    "# Taking user input\n",
    "gender = input(\"Your Gender (Male/Female): \")\n",
    "age = int(input(\"Your Age: \"))\n",
    "\n",
    "# Checking eligibility and printing result\n",
    "result = EligibilityForMarriage(gender, age)\n",
    "print(result)"
   ]
  },
  {
   "cell_type": "code",
   "execution_count": 58,
   "id": "dd05f9e8",
   "metadata": {},
   "outputs": [
    {
     "name": "stdout",
     "output_type": "stream",
     "text": [
      "Enter marks for Subject 1: 98\n",
      "Enter marks for Subject 2: 87\n",
      "Enter marks for Subject 3: 95\n",
      "Enter marks for Subject 4: 95\n",
      "Enter marks for Subject 5: 95\n",
      "\n",
      "Total Marks: 468.0\n",
      "Percentage: 93.6\n"
     ]
    }
   ],
   "source": [
    "# Function to calculate the percentage of marks\n",
    "def FindPercent(subject1, subject2, subject3, subject4, subject5):\n",
    "    total_marks = subject1 + subject2 + subject3 + subject4 + subject5\n",
    "    percentage = (total_marks / 5) \n",
    "    return total_marks, percentage\n",
    "\n",
    "# Taking dynamic user input for the marks of each subject\n",
    "subject1 = float(input(\"Enter marks for Subject 1: \"))\n",
    "subject2 = float(input(\"Enter marks for Subject 2: \"))\n",
    "subject3 = float(input(\"Enter marks for Subject 3: \"))\n",
    "subject4 = float(input(\"Enter marks for Subject 4: \"))\n",
    "subject5 = float(input(\"Enter marks for Subject 5: \"))\n",
    "\n",
    "# Calling the function to calculate total and percentage\n",
    "#total, percentage = FindPercent(subject1, subject2, subject3, subject4, subject5)\n",
    "\n",
    "# Printing the result\n",
    "print(f\"\\nTotal Marks: {total}\")\n",
    "print(f\"Percentage: {percentage}\")\n"
   ]
  },
  {
   "cell_type": "code",
   "execution_count": 61,
   "id": "22d8a886",
   "metadata": {},
   "outputs": [
    {
     "name": "stdout",
     "output_type": "stream",
     "text": [
      "Enter Height of the Triangle: 32\n",
      "Enter Breadth of the Triangle: 34\n",
      "\n",
      "Area formula: (Height * Breadth) / 2\n",
      "Area of Triangle: 544.0\n",
      "\n",
      "Enter Height1 (for Perimeter calculation): 2\n",
      "Enter Height2 (for Perimeter calculation): 4\n",
      "Enter Breadth of the Triangle: 4\n",
      "\n",
      "Perimeter formula: Height1 + Height2 + Breadth\n",
      "Perimeter of Triangle: 10.0\n"
     ]
    }
   ],
   "source": [
    "# Function to calculate the area of a triangle\n",
    "def calculate_area(height, breadth):\n",
    "    return (height * breadth) / 2\n",
    "\n",
    "# Function to calculate the perimeter of a triangle\n",
    "def calculate_perimeter(height1, height2, breadth):\n",
    "    return height1 + height2 + breadth\n",
    "\n",
    "# Function to take dynamic user input and perform the calculations\n",
    "def triangle_calculations():\n",
    "    # Taking dynamic user input for height and breadth of the triangle\n",
    "    height = float(input(\"Enter Height of the Triangle: \"))\n",
    "    breadth = float(input(\"Enter Breadth of the Triangle: \"))\n",
    "\n",
    "    # Calculating and displaying the area\n",
    "    area = calculate_area(height, breadth)\n",
    "    print(f\"\\nArea formula: (Height * Breadth) / 2\")\n",
    "    print(f\"Area of Triangle: {area}\")\n",
    "\n",
    "    # Taking user input for perimeter calculation\n",
    "    height1 = float(input(\"\\nEnter Height1 (for Perimeter calculation): \"))\n",
    "    height2 = float(input(\"Enter Height2 (for Perimeter calculation): \"))\n",
    "    breadth = float(input(\"Enter Breadth of the Triangle: \"))\n",
    "\n",
    "    # Calculating and displaying the perimeter\n",
    "   \n",
    "    print(f\"\\nPerimeter formula: Height1 + Height2 + Breadth\")\n",
    "    print(f\"Perimeter of Triangle: {perimeter}\")\n",
    "\n",
    "# Calling the function to calculate area and perimeter\n",
    "triangle_calculations()"
   ]
  },
  {
   "cell_type": "code",
   "execution_count": 1,
   "id": "f554d01c",
   "metadata": {},
   "outputs": [],
   "source": [
    "class multifunct():\n",
    "    def Subfields():\n",
    "        subfields = [\"Machine Learning\",\"Neural Networks\",\"Vision\",\"Robotics\",\"Speech Processing\",\"Natural Language Processing\"]\n",
    "        for field in subfields:\n",
    "            print(field)\n",
    "    def OddEven(number):\n",
    "        if number % 2 == 0:\n",
    "            print(f\"{number} is a Even Number\")\n",
    "        #msg= \"Even Number\"\n",
    "        else:\n",
    "            print(f\"{number} is a Odd Number\")\n",
    "    # Function to check marriage eligibility\n",
    "    def EligibilityForMarriage(gender, age):\n",
    "        if gender.lower() == 'male' and age >= 21:\n",
    "            return \"Eligible for marriage\"\n",
    "        elif gender.lower() == 'female' and age >= 18:\n",
    "            return \"Eligible for marriage\"\n",
    "        else:\n",
    "            return \"NOT ELIGIBLE\"\n",
    "        # Function to calculate the percentage of marks\n",
    "    def FindPercent(subject1, subject2, subject3, subject4, subject5):\n",
    "        total_marks = subject1 + subject2 + subject3 + subject4 + subject5\n",
    "        percentage = (total_marks / 5) \n",
    "        return total_marks, percentage\n",
    "  # Function to calculate the area of a triangle\n",
    "    def calculate_area(height, breadth):\n",
    "        return (height * breadth) / 2\n",
    "\n",
    "# Function to calculate the perimeter of a triangle\n",
    "    def calculate_perimeter(height1, height2, breadth):\n",
    "        return height1 + height2 + breadth\n",
    "\n",
    "# Function to take dynamic user input and perform the calculations\n",
    "    def triangle_calculations():\n",
    "    # Taking dynamic user input for height and breadth of the triangle\n",
    "        height = float(input(\"Enter Height of the Triangle: \"))\n",
    "        breadth = float(input(\"Enter Breadth of the Triangle: \"))\n",
    "\n",
    "    # Calculating and displaying the area\n",
    "        area = calculate_area(height, breadth)\n",
    "    #print(f\"\\nArea formula: (Height * Breadth) / 2\")\n",
    "    #print(f\"Area of Triangle: {area}\")\n",
    "\n",
    "    # Taking user input for perimeter calculation\n",
    "    #height1 = float(input(\"\\nEnter Height1 (for Perimeter calculation): \"))\n",
    "    #height2 = float(input(\"Enter Height2 (for Perimeter calculation): \"))\n",
    "    #breadth = float(input(\"Enter Breadth of the Triangle: \"))\n",
    "\n",
    "    # Calculating and displaying the perimeter\n",
    "   \n",
    "    #print(f\"\\nPerimeter formula: Height1 + Height2 + Breadth\")\n",
    "    #print(f\"Perimeter of Triangle: {perimeter}\")\n",
    "\n",
    "        \n",
    "            \n",
    "    "
   ]
  },
  {
   "cell_type": "code",
   "execution_count": 35,
   "id": "d2f0070b",
   "metadata": {},
   "outputs": [
    {
     "name": "stdout",
     "output_type": "stream",
     "text": [
      "Machine Learning\n",
      "Neural Networks\n",
      "Vision\n",
      "Robotics\n",
      "Speech Processing\n",
      "Natural Language Processing\n"
     ]
    }
   ],
   "source": [
    "multifunct.Subfields()"
   ]
  },
  {
   "cell_type": "code",
   "execution_count": 18,
   "id": "6589c874",
   "metadata": {},
   "outputs": [
    {
     "name": "stdout",
     "output_type": "stream",
     "text": [
      "Enter a Number:52452\n",
      "52452 is a Even Number\n"
     ]
    }
   ],
   "source": [
    "number=int(input(\"Enter a Number:\"))\n",
    "multifunct.OddEven(number)\n"
   ]
  },
  {
   "cell_type": "code",
   "execution_count": 9,
   "id": "81243829",
   "metadata": {},
   "outputs": [
    {
     "name": "stdout",
     "output_type": "stream",
     "text": [
      "Your Gender (Male/Female): Male\n",
      "Your Age: 20\n"
     ]
    },
    {
     "data": {
      "text/plain": [
       "'NOT ELIGIBLE'"
      ]
     },
     "execution_count": 9,
     "metadata": {},
     "output_type": "execute_result"
    }
   ],
   "source": [
    "# Taking user input\n",
    "gender = input(\"Your Gender (Male/Female): \")\n",
    "age = int(input(\"Your Age: \"))\n",
    "multifunct.EligibilityForMarriage(gender, age)"
   ]
  },
  {
   "cell_type": "code",
   "execution_count": 45,
   "id": "928d43f8",
   "metadata": {},
   "outputs": [
    {
     "name": "stdout",
     "output_type": "stream",
     "text": [
      "Enter marks for Subject 1: 98\n",
      "Enter marks for Subject 2: 87\n",
      "Enter marks for Subject 3: 95\n",
      "Enter marks for Subject 4: 93\n",
      "Enter marks for Subject 5: 95\n"
     ]
    },
    {
     "data": {
      "text/plain": [
       "(468.0, 93.6)"
      ]
     },
     "execution_count": 45,
     "metadata": {},
     "output_type": "execute_result"
    }
   ],
   "source": [
    "# Taking dynamic user input for the marks of each subject\n",
    "subject1 = float(input(\"Enter marks for Subject 1: \"))\n",
    "subject2 = float(input(\"Enter marks for Subject 2: \"))\n",
    "subject3 = float(input(\"Enter marks for Subject 3: \"))\n",
    "subject4 = float(input(\"Enter marks for Subject 4: \"))\n",
    "subject5 = float(input(\"Enter marks for Subject 5: \"))\n",
    "multifunct.FindPercent(subject1, subject2, subject3, subject4, subject5)"
   ]
  },
  {
   "cell_type": "code",
   "execution_count": 2,
   "id": "e623cc81",
   "metadata": {},
   "outputs": [
    {
     "name": "stdout",
     "output_type": "stream",
     "text": [
      "Enter Height of the Triangle: 32\n",
      "Enter Breadth of the Triangle: 34\n",
      "Enter Height of the Triangle: 32\n",
      "Enter Breadth of the Triangle: 34\n"
     ]
    },
    {
     "ename": "NameError",
     "evalue": "name 'calculate_area' is not defined",
     "output_type": "error",
     "traceback": [
      "\u001b[1;31m---------------------------------------------------------------------------\u001b[0m",
      "\u001b[1;31mNameError\u001b[0m                                 Traceback (most recent call last)",
      "Cell \u001b[1;32mIn[2], line 3\u001b[0m\n\u001b[0;32m      1\u001b[0m height \u001b[38;5;241m=\u001b[39m \u001b[38;5;28mfloat\u001b[39m(\u001b[38;5;28minput\u001b[39m(\u001b[38;5;124m\"\u001b[39m\u001b[38;5;124mEnter Height of the Triangle: \u001b[39m\u001b[38;5;124m\"\u001b[39m))\n\u001b[0;32m      2\u001b[0m breadth \u001b[38;5;241m=\u001b[39m \u001b[38;5;28mfloat\u001b[39m(\u001b[38;5;28minput\u001b[39m(\u001b[38;5;124m\"\u001b[39m\u001b[38;5;124mEnter Breadth of the Triangle: \u001b[39m\u001b[38;5;124m\"\u001b[39m))\n\u001b[1;32m----> 3\u001b[0m multifunct\u001b[38;5;241m.\u001b[39mtriangle_calculations()\n\u001b[0;32m      4\u001b[0m area \u001b[38;5;241m=\u001b[39m calculate_area(height, breadth)\n\u001b[0;32m      5\u001b[0m \u001b[38;5;28mprint\u001b[39m(\u001b[38;5;124mf\u001b[39m\u001b[38;5;124m\"\u001b[39m\u001b[38;5;130;01m\\n\u001b[39;00m\u001b[38;5;124mArea formula: (Height * Breadth) / 2\u001b[39m\u001b[38;5;124m\"\u001b[39m)\n",
      "Cell \u001b[1;32mIn[1], line 40\u001b[0m, in \u001b[0;36mmultifunct.triangle_calculations\u001b[1;34m()\u001b[0m\n\u001b[0;32m     37\u001b[0m     breadth \u001b[38;5;241m=\u001b[39m \u001b[38;5;28mfloat\u001b[39m(\u001b[38;5;28minput\u001b[39m(\u001b[38;5;124m\"\u001b[39m\u001b[38;5;124mEnter Breadth of the Triangle: \u001b[39m\u001b[38;5;124m\"\u001b[39m))\n\u001b[0;32m     39\u001b[0m \u001b[38;5;66;03m# Calculating and displaying the area\u001b[39;00m\n\u001b[1;32m---> 40\u001b[0m     area \u001b[38;5;241m=\u001b[39m calculate_area(height, breadth)\n",
      "\u001b[1;31mNameError\u001b[0m: name 'calculate_area' is not defined"
     ]
    }
   ],
   "source": [
    "height = float(input(\"Enter Height of the Triangle: \"))\n",
    "breadth = float(input(\"Enter Breadth of the Triangle: \"))\n",
    "multifunct.triangle_calculations()\n",
    "area = calculate_area(height, breadth)\n",
    "print(f\"\\nArea formula: (Height * Breadth) / 2\")\n",
    "multifunct.calculate_area(height, breadth)\n",
    "print(f\"Area of Triangle: {area}\")\n",
    "# Taking user input for perimeter calculation\n",
    "height1 = float(input(\"\\nEnter Height1 (for Perimeter calculation): \"))\n",
    "height2 = float(input(\"Enter Height2 (for Perimeter calculation): \"))\n",
    "breadth = float(input(\"Enter Breadth of the Triangle: \"))\n",
    "#multifunct.calculate_perimeter(height1, height2, breadth)\n",
    "\n",
    "    # Calculating and displaying the perimeter\n",
    "print(f\"\\nPerimeter formula: Height1 + Height2 + Breadth\")\n",
    "print(f\"Perimeter of Triangle: {perimeter}\")"
   ]
  },
  {
   "cell_type": "code",
   "execution_count": null,
   "id": "abd387b8",
   "metadata": {},
   "outputs": [],
   "source": []
  },
  {
   "cell_type": "code",
   "execution_count": null,
   "id": "92a13531",
   "metadata": {},
   "outputs": [],
   "source": []
  }
 ],
 "metadata": {
  "kernelspec": {
   "display_name": "Python 3 (ipykernel)",
   "language": "python",
   "name": "python3"
  },
  "language_info": {
   "codemirror_mode": {
    "name": "ipython",
    "version": 3
   },
   "file_extension": ".py",
   "mimetype": "text/x-python",
   "name": "python",
   "nbconvert_exporter": "python",
   "pygments_lexer": "ipython3",
   "version": "3.11.4"
  }
 },
 "nbformat": 4,
 "nbformat_minor": 5
}
