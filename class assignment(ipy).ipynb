{
 "cells": [
  {
   "cell_type": "code",
   "execution_count": 1,
   "id": "794551f5",
   "metadata": {},
   "outputs": [],
   "source": [
    "class SubfieldsInAI():\n",
    "    def Subfields():\n",
    "        subFieldsinAI=[\"Machine Learning\",\"Neural Networks\",\"Vision\",\"Robotics\",\"Speech Processing\",\"Natural Language Processing\"]\n",
    "        print(\"Sub-fields in AI are:\")\n",
    "        for fields in subFieldsinAI:\n",
    "            print(fields)"
   ]
  },
  {
   "cell_type": "code",
   "execution_count": 2,
   "id": "bd80e168",
   "metadata": {},
   "outputs": [
    {
     "name": "stdout",
     "output_type": "stream",
     "text": [
      "Sub-fields in AI are:\n",
      "Machine Learning\n",
      "Neural Networks\n",
      "Vision\n",
      "Robotics\n",
      "Speech Processing\n",
      "Natural Language Processing\n"
     ]
    }
   ],
   "source": [
    "SubfieldsInAI.Subfields()"
   ]
  },
  {
   "cell_type": "code",
   "execution_count": 3,
   "id": "7f029551",
   "metadata": {},
   "outputs": [],
   "source": [
    "class OddEven():\n",
    "    def OddEven():\n",
    "        num=int(input(\"Enter a number:\"))\n",
    "        if(num%2==0):\n",
    "            print(num,\"is Even number\")\n",
    "        else:\n",
    "            print(num,\"is Odd number\")"
   ]
  },
  {
   "cell_type": "code",
   "execution_count": 4,
   "id": "0eb9a890",
   "metadata": {},
   "outputs": [
    {
     "name": "stdout",
     "output_type": "stream",
     "text": [
      "Enter a number:5\n",
      "5 is Odd number\n"
     ]
    }
   ],
   "source": [
    "OddEven.OddEven()"
   ]
  },
  {
   "cell_type": "code",
   "execution_count": 5,
   "id": "7890d0b2",
   "metadata": {},
   "outputs": [],
   "source": [
    "class EligibilityForMarraige():\n",
    "    def Eligible():\n",
    "        Gender=input(\"Your Gender:\")\n",
    "        Age=int(input(\"Your Age:\"))\n",
    "        if(Gender==\"Male\" and Age>=21):\n",
    "            print(\"ELIGIBLE\")\n",
    "        elif(Gender==\"Female\" and Age>=18):\n",
    "            print(\"ELIGIBLE\")\n",
    "        else:\n",
    "            print(\"NOT ELIGIBLE\")"
   ]
  },
  {
   "cell_type": "code",
   "execution_count": 6,
   "id": "e2d84604",
   "metadata": {},
   "outputs": [
    {
     "name": "stdout",
     "output_type": "stream",
     "text": [
      "Your Gender:male\n",
      "Your Age:16\n",
      "NOT ELIGIBLE\n"
     ]
    }
   ],
   "source": [
    "EligibilityForMarraige.Eligible()"
   ]
  },
  {
   "cell_type": "code",
   "execution_count": 7,
   "id": "b4d8efac",
   "metadata": {},
   "outputs": [],
   "source": [
    "class FindPercentage():\n",
    "    def percentage():\n",
    "        Subject1=int(input(\"Subject1=\"))\n",
    "        Subject2=int(input(\"Subject2=\"))\n",
    "        Subject3=int(input(\"Subject3=\"))\n",
    "        Subject4=int(input(\"Subject4=\"))\n",
    "        Subject5=int(input(\"Subject5=\"))\n",
    "        Total=Subject1+Subject2+Subject3+Subject4+Subject5\n",
    "        Percentage=(Total/500)*100\n",
    "        print(\"Total :\",Total)\n",
    "        print(\"Percentage :\",Percentage)"
   ]
  },
  {
   "cell_type": "code",
   "execution_count": 8,
   "id": "fa30f001",
   "metadata": {},
   "outputs": [
    {
     "name": "stdout",
     "output_type": "stream",
     "text": [
      "Subject1=10\n",
      "Subject2=20\n",
      "Subject3=47\n",
      "Subject4=78\n",
      "Subject5=67\n",
      "Total : 222\n",
      "Percentage : 44.4\n"
     ]
    }
   ],
   "source": [
    "FindPercentage.percentage()"
   ]
  },
  {
   "cell_type": "code",
   "execution_count": 9,
   "id": "25e99399",
   "metadata": {},
   "outputs": [],
   "source": [
    "class triangle():\n",
    "    def triangle():\n",
    "        Height=int(input(\"Height:\"))\n",
    "        Breadth=int(input(\"Breadth:\"))\n",
    "        areaOfTriangle=(Height*Breadth)/2\n",
    "        print(\"Area formula: (Height*Breadth)/2\")\n",
    "        print(\"Area of Triangle:\",areaOfTriangle)\n",
    "        Height1=int(input(\"Height1:\"))\n",
    "        Height2=int(input(\"Height2:\"))\n",
    "        Breadth=int(input(\"Breadth:\"))\n",
    "        perimeterOfTriangle=Height1+Height2+Breadth\n",
    "        print(\"Perimeter formula: Height1+Height2+Breadth\")\n",
    "        print(\"Perimeter of Triangle:\",perimeterOfTriangle)"
   ]
  },
  {
   "cell_type": "code",
   "execution_count": 10,
   "id": "611819a4",
   "metadata": {},
   "outputs": [
    {
     "name": "stdout",
     "output_type": "stream",
     "text": [
      "Height:23\n",
      "Breadth:67\n",
      "Area formula: (Height*Breadth)/2\n",
      "Area of Triangle: 770.5\n",
      "Height1:78\n",
      "Height2:45\n",
      "Breadth:38\n",
      "Perimeter formula: Height1+Height2+Breadth\n",
      "Perimeter of Triangle: 161\n"
     ]
    }
   ],
   "source": [
    "triangle.triangle()"
   ]
  },
  {
   "cell_type": "code",
   "execution_count": null,
   "id": "fa08fe95",
   "metadata": {},
   "outputs": [],
   "source": []
  }
 ],
 "metadata": {
  "kernelspec": {
   "display_name": "Python 3 (ipykernel)",
   "language": "python",
   "name": "python3"
  },
  "language_info": {
   "codemirror_mode": {
    "name": "ipython",
    "version": 3
   },
   "file_extension": ".py",
   "mimetype": "text/x-python",
   "name": "python",
   "nbconvert_exporter": "python",
   "pygments_lexer": "ipython3",
   "version": "3.11.4"
  }
 },
 "nbformat": 4,
 "nbformat_minor": 5
}
