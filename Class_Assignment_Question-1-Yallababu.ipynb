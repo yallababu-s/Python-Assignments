{
 "cells": [
  {
   "cell_type": "code",
   "execution_count": 1,
   "id": "158423a3",
   "metadata": {},
   "outputs": [],
   "source": [
    "from classmodelfilename  import multiFunct"
   ]
  },
  {
   "cell_type": "code",
   "execution_count": 2,
   "id": "d5622875",
   "metadata": {},
   "outputs": [
    {
     "name": "stdout",
     "output_type": "stream",
     "text": [
      "Machine Learning\n",
      "Neural Networks\n",
      "Vision\n",
      "Robotics\n",
      "Speech Processing\n",
      "Natural Language Processing\n"
     ]
    }
   ],
   "source": [
    "multiFunct.Subfields()"
   ]
  },
  {
   "cell_type": "code",
   "execution_count": 3,
   "id": "18a7f875",
   "metadata": {},
   "outputs": [
    {
     "name": "stdout",
     "output_type": "stream",
     "text": [
      "Enter a Number:53452\n",
      "53452 is a Even Number\n"
     ]
    }
   ],
   "source": [
    "number=int(input(\"Enter a Number:\"))\n",
    "multiFunct.OddEven(number)"
   ]
  },
  {
   "cell_type": "code",
   "execution_count": 4,
   "id": "3d9df6a2",
   "metadata": {},
   "outputs": [
    {
     "name": "stdout",
     "output_type": "stream",
     "text": [
      "Your Gender (Male/Female): Male\n",
      "Your Age: 20\n"
     ]
    },
    {
     "data": {
      "text/plain": [
       "'NOT ELIGIBLE'"
      ]
     },
     "execution_count": 4,
     "metadata": {},
     "output_type": "execute_result"
    }
   ],
   "source": [
    "gender = input(\"Your Gender (Male/Female): \")\n",
    "age = int(input(\"Your Age: \"))\n",
    "multiFunct.EligibilityForMarriage(gender, age)"
   ]
  },
  {
   "cell_type": "code",
   "execution_count": 5,
   "id": "cdb40fc7",
   "metadata": {},
   "outputs": [
    {
     "name": "stdout",
     "output_type": "stream",
     "text": [
      "Enter marks for Subject 1: 98\n",
      "Enter marks for Subject 2: 87\n",
      "Enter marks for Subject 3: 95\n",
      "Enter marks for Subject 4: 95\n",
      "Enter marks for Subject 5: 93\n"
     ]
    },
    {
     "data": {
      "text/plain": [
       "(468.0, 93.6)"
      ]
     },
     "execution_count": 5,
     "metadata": {},
     "output_type": "execute_result"
    }
   ],
   "source": [
    "# Taking dynamic user input for the marks of each subject\n",
    "subject1 = float(input(\"Enter marks for Subject 1: \"))\n",
    "subject2 = float(input(\"Enter marks for Subject 2: \"))\n",
    "subject3 = float(input(\"Enter marks for Subject 3: \"))\n",
    "subject4 = float(input(\"Enter marks for Subject 4: \"))\n",
    "subject5 = float(input(\"Enter marks for Subject 5: \"))\n",
    "multiFunct.FindPercent(subject1, subject2, subject3, subject4, subject5)"
   ]
  },
  {
   "cell_type": "code",
   "execution_count": 8,
   "id": "c04c55a0",
   "metadata": {},
   "outputs": [
    {
     "name": "stdout",
     "output_type": "stream",
     "text": [
      "Enter Height of the Triangle: 32\n",
      "Enter Breadth of the Triangle: 34\n"
     ]
    },
    {
     "data": {
      "text/plain": [
       "544.0"
      ]
     },
     "execution_count": 8,
     "metadata": {},
     "output_type": "execute_result"
    }
   ],
   "source": [
    "height = float(input(\"Enter Height of the Triangle: \"))\n",
    "breadth = float(input(\"Enter Breadth of the Triangle: \"))\n",
    "multiFunct.calculate_area(height, breadth)"
   ]
  },
  {
   "cell_type": "code",
   "execution_count": 10,
   "id": "e6b62624",
   "metadata": {},
   "outputs": [
    {
     "name": "stdout",
     "output_type": "stream",
     "text": [
      "\n",
      "Enter Height1 (for Perimeter calculation): 2\n",
      "Enter Height2 (for Perimeter calculation): 4\n",
      "Enter Breadth of the Triangle: 4\n"
     ]
    },
    {
     "data": {
      "text/plain": [
       "10.0"
      ]
     },
     "execution_count": 10,
     "metadata": {},
     "output_type": "execute_result"
    }
   ],
   "source": [
    "height1 = float(input(\"\\nEnter Height1 (for Perimeter calculation): \"))\n",
    "height2 = float(input(\"Enter Height2 (for Perimeter calculation): \"))\n",
    "breadth = float(input(\"Enter Breadth of the Triangle: \"))\n",
    "multiFunct.calculate_perimeter(height1, height2, breadth)"
   ]
  },
  {
   "cell_type": "code",
   "execution_count": null,
   "id": "986a340d",
   "metadata": {},
   "outputs": [],
   "source": []
  }
 ],
 "metadata": {
  "kernelspec": {
   "display_name": "Python 3 (ipykernel)",
   "language": "python",
   "name": "python3"
  },
  "language_info": {
   "codemirror_mode": {
    "name": "ipython",
    "version": 3
   },
   "file_extension": ".py",
   "mimetype": "text/x-python",
   "name": "python",
   "nbconvert_exporter": "python",
   "pygments_lexer": "ipython3",
   "version": "3.11.4"
  }
 },
 "nbformat": 4,
 "nbformat_minor": 5
}
