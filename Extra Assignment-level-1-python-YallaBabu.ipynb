{
 "cells": [
  {
   "cell_type": "code",
   "execution_count": 1,
   "id": "c074686a",
   "metadata": {},
   "outputs": [
    {
     "name": "stdout",
     "output_type": "stream",
     "text": [
      "HOPE AI\n"
     ]
    }
   ],
   "source": [
    "print(\"HOPE AI\")"
   ]
  },
  {
   "cell_type": "code",
   "execution_count": 3,
   "id": "5b28f51a",
   "metadata": {},
   "outputs": [
    {
     "name": "stdout",
     "output_type": "stream",
     "text": [
      "Enter your institute name? :HOPE AI\n"
     ]
    }
   ],
   "source": [
    "name=input(\"Enter your institute name? :\") "
   ]
  },
  {
   "cell_type": "code",
   "execution_count": 5,
   "id": "7a10407f",
   "metadata": {},
   "outputs": [
    {
     "name": "stdout",
     "output_type": "stream",
     "text": [
      "Enter your name:Raj\n",
      "Enter your age:15\n",
      "Enter your school name:Guru school\n",
      "Enter your drgree: B.EB.E CSE\n"
     ]
    }
   ],
   "source": [
    "yourname=input(\"Enter your name:\") \n",
    "age=input(\"Enter your age:\")\n",
    "schoolname=input(\"Enter your school name:\")\n",
    "degree=input(\"Enter your drgree: B.E\")"
   ]
  },
  {
   "cell_type": "code",
   "execution_count": 6,
   "id": "6b22452f",
   "metadata": {},
   "outputs": [
    {
     "name": "stdout",
     "output_type": "stream",
     "text": [
      "a= 43\n",
      "b= 34\n",
      "add= 77\n"
     ]
    }
   ],
   "source": [
    "a=43\n",
    "print(\"a=\",a)\n",
    "b=34\n",
    "print(\"b=\",b)\n",
    "add=a+b\n",
    "print(\"add=\",add)\n"
   ]
  },
  {
   "cell_type": "code",
   "execution_count": 8,
   "id": "a210d13b",
   "metadata": {},
   "outputs": [
    {
     "name": "stdout",
     "output_type": "stream",
     "text": [
      "a= 43\n",
      "b= 34\n",
      "sub= 9\n"
     ]
    }
   ],
   "source": [
    "a=43\n",
    "print(\"a=\",a)\n",
    "b=34\n",
    "print(\"b=\",b)\n",
    "add=a-b\n",
    "print(\"sub=\",add)"
   ]
  },
  {
   "cell_type": "code",
   "execution_count": 15,
   "id": "e42cfd1d",
   "metadata": {},
   "outputs": [
    {
     "name": "stdout",
     "output_type": "stream",
     "text": [
      "a= 63\n",
      "b= 97\n",
      "Mul= 6111\n"
     ]
    }
   ],
   "source": [
    "a=63\n",
    "print(\"a=\",a)\n",
    "b=97\n",
    "print(\"b=\",b)\n",
    "Mul = a * b\n",
    "print(\"Mul=\", Mul)\n"
   ]
  },
  {
   "cell_type": "code",
   "execution_count": 16,
   "id": "8c6f26e1",
   "metadata": {},
   "outputs": [
    {
     "name": "stdout",
     "output_type": "stream",
     "text": [
      "a= 76\n",
      "b= 31\n",
      "Float Div = 2.4516129032258065\n"
     ]
    }
   ],
   "source": [
    "a = 76\n",
    "print(\"a=\",a)\n",
    "b = 31\n",
    "print(\"b=\",b)\n",
    "float_div = a / b\n",
    "print(\"Float Div =\", float_div)"
   ]
  },
  {
   "cell_type": "code",
   "execution_count": 17,
   "id": "3598fbb8",
   "metadata": {},
   "outputs": [
    {
     "name": "stdout",
     "output_type": "stream",
     "text": [
      "a= 76\n",
      "b= 31\n",
      "Floor Division: 2\n"
     ]
    }
   ],
   "source": [
    "a = 76\n",
    "print(\"a=\",a)\n",
    "b = 31\n",
    "print(\"b=\",b)\n",
    "floor_div = a // b\n",
    "print(\"Floor Division:\", floor_div)"
   ]
  },
  {
   "cell_type": "code",
   "execution_count": 20,
   "id": "a00754f7",
   "metadata": {},
   "outputs": [
    {
     "name": "stdout",
     "output_type": "stream",
     "text": [
      "a= 76\n",
      "b= 31\n",
      "Modulo= 14\n"
     ]
    }
   ],
   "source": [
    "a = 76\n",
    "print(\"a=\",a)\n",
    "b = 31\n",
    "print(\"b=\",b)\n",
    "# Calculating modulo\n",
    "Modulo = a % b\n",
    "print(\"Modulo=\",Modulo)"
   ]
  },
  {
   "cell_type": "code",
   "execution_count": 22,
   "id": "3b10446e",
   "metadata": {},
   "outputs": [
    {
     "name": "stdout",
     "output_type": "stream",
     "text": [
      "a= 4\n",
      "b= 4\n",
      "Power = 256\n"
     ]
    }
   ],
   "source": [
    "a = 4\n",
    "print(\"a=\",a)\n",
    "b = 4\n",
    "print(\"b=\",b)\n",
    "# Calculating power\n",
    "power = a ** b\n",
    "print(\"Power =\",power)"
   ]
  }
 ],
 "metadata": {
  "kernelspec": {
   "display_name": "Python 3 (ipykernel)",
   "language": "python",
   "name": "python3"
  },
  "language_info": {
   "codemirror_mode": {
    "name": "ipython",
    "version": 3
   },
   "file_extension": ".py",
   "mimetype": "text/x-python",
   "name": "python",
   "nbconvert_exporter": "python",
   "pygments_lexer": "ipython3",
   "version": "3.11.4"
  }
 },
 "nbformat": 4,
 "nbformat_minor": 5
}
