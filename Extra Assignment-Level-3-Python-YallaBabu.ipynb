{
 "cells": [
  {
   "cell_type": "code",
   "execution_count": 2,
   "id": "2fe5b83e",
   "metadata": {},
   "outputs": [
    {
     "name": "stdout",
     "output_type": "stream",
     "text": [
      "value: 10\n",
      "CORRECT\n"
     ]
    }
   ],
   "source": [
    "i = 10\n",
    "print(\"value:\",i)\n",
    "if i == 10:\n",
    "    print('CORRECT')"
   ]
  },
  {
   "cell_type": "code",
   "execution_count": 3,
   "id": "98d2aeff",
   "metadata": {},
   "outputs": [
    {
     "name": "stdout",
     "output_type": "stream",
     "text": [
      "Enter the password: HOPE@123\n",
      "Your password is correct\n"
     ]
    }
   ],
   "source": [
    "password = input(\"Enter the password: \")\n",
    "if password == \"HOPE@123\":\n",
    "    print(\"Your password is correct\")\n",
    "else:\n",
    "    print(\"Incorrect password\")"
   ]
  },
  {
   "cell_type": "code",
   "execution_count": 5,
   "id": "0690f751",
   "metadata": {},
   "outputs": [
    {
     "name": "stdout",
     "output_type": "stream",
     "text": [
      "age: 20\n",
      "Adult\n"
     ]
    }
   ],
   "source": [
    "age = int(input(\"age: \"))\n",
    "if age < 12:\n",
    "    print(\"Child\")\n",
    "elif 12 <= age < 18:\n",
    "    print(\"Teenager\")\n",
    "elif 18 <= age < 60:\n",
    "    print(\"Adult\")\n",
    "elif age >= 60:\n",
    "    print(\"Senior Citizen\")"
   ]
  },
  {
   "cell_type": "code",
   "execution_count": 6,
   "id": "213f5473",
   "metadata": {},
   "outputs": [
    {
     "name": "stdout",
     "output_type": "stream",
     "text": [
      "Enter any number: 1\n",
      "Number is positive\n"
     ]
    }
   ],
   "source": [
    "number = int(input(\"Enter any number: \"))\n",
    "if number > 0:\n",
    "    print(\"Number is positive\")\n",
    "elif number < 0:\n",
    "    print(\"Number is negative\")\n",
    "else:\n",
    "    print(\"Number is zero\")"
   ]
  },
  {
   "cell_type": "code",
   "execution_count": 7,
   "id": "6f1d97fc",
   "metadata": {},
   "outputs": [
    {
     "name": "stdout",
     "output_type": "stream",
     "text": [
      "Enter a number to check: 22\n",
      "Number is not divisible by 5\n"
     ]
    }
   ],
   "source": [
    "number = int(input(\"Enter a number to check: \"))\n",
    "if number % 5 == 0:\n",
    "    print(\"Number is divisible by 5\")\n",
    "else:\n",
    "    print(\"Number is not divisible by 5\")"
   ]
  },
  {
   "cell_type": "code",
   "execution_count": null,
   "id": "ef4c4d95",
   "metadata": {},
   "outputs": [],
   "source": []
  }
 ],
 "metadata": {
  "kernelspec": {
   "display_name": "Python 3 (ipykernel)",
   "language": "python",
   "name": "python3"
  },
  "language_info": {
   "codemirror_mode": {
    "name": "ipython",
    "version": 3
   },
   "file_extension": ".py",
   "mimetype": "text/x-python",
   "name": "python",
   "nbconvert_exporter": "python",
   "pygments_lexer": "ipython3",
   "version": "3.11.4"
  }
 },
 "nbformat": 4,
 "nbformat_minor": 5
}
